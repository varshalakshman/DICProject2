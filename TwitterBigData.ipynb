{
 "cells": [
  {
   "cell_type": "code",
   "execution_count": 11,
   "metadata": {},
   "outputs": [
    {
     "name": "stderr",
     "output_type": "stream",
     "text": [
      "Rate limit reached. Sleeping for: 387\n"
     ]
    },
    {
     "name": "stdout",
     "output_type": "stream",
     "text": [
      "Downloaded 996 tweets\n"
     ]
    }
   ],
   "source": [
    "import tweepy\n",
    "consumer_key = \"JlWj4jM87fZwG29kJVh2sFWbO\"\n",
    "consumer_secret = \"tdLp4k7maEvGzsYbGrF41JP8Fvjggn8GmByAZfFeAup2wBMQVM\"\n",
    "access_token = \"1102467059496206336-S5T0bC4yRn3tvSAOwSB9bzISJj73Px\"\n",
    "access_token_secret = \"0hzO9aTsjOJl5vi3iGCGM60TIPWmu3vuMQSlRnRyaJQvT\"\n",
    "\n",
    "# Creating the authentication object\n",
    "auth = tweepy.OAuthHandler(consumer_key, consumer_secret)\n",
    "# Setting your access token and secret\n",
    "auth.set_access_token(access_token, access_token_secret)\n",
    "# Creating the API object while passing in auth information\n",
    "api = tweepy.API(auth,wait_on_rate_limit=True,wait_on_rate_limit_notify=True) \n",
    "text = \"\"\n",
    "tweetCount = 0\n",
    "tweetChecklist = []\n",
    "new_search = \"Philadelphia 76ers OR @sixers OR 76ers -filter:retweets\"\n",
    "\n",
    "with open('atlantic_TwitterData.txt', 'w') as f:\n",
    "\n",
    "    #Tell the Cursor method that we want to use the Search API (api.search)\n",
    "    #Also tell Cursor our query, and the maximum number of tweets to return\n",
    "    for tweet in tweepy.Cursor(api.search,q=new_search,lang=\"en\",since='2019-01-01').items(1000) :         \n",
    "\n",
    "        #Verify the tweet has place info before writing (It should, if it got past our place filter)\n",
    "        if tweet.text is not None:\n",
    "            if tweet.text not in tweetChecklist:\n",
    "                # Store it, so that on further times with the same text, \n",
    "                # it didn't reach this code\n",
    "                tweet.text = tweet.text.replace('\\n', ' ')\n",
    "                tweetChecklist.append(tweet.text);\n",
    "            #Write the JSON format to the text file, and add one to the number of tweets we've collected\n",
    "                f.write(tweet.text)\n",
    "                f.write(\"\\n\")\n",
    "                tweetCount += 1\n",
    "\n",
    "    #Display how many tweets we have collected\n",
    "    print(\"Downloaded {0} tweets\".format(tweetCount))"
   ]
  },
  {
   "cell_type": "code",
   "execution_count": 12,
   "metadata": {},
   "outputs": [
    {
     "name": "stdout",
     "output_type": "stream",
     "text": [
      "Downloaded 999 tweets\n"
     ]
    }
   ],
   "source": [
    "import tweepy\n",
    "consumer_key = \"JlWj4jM87fZwG29kJVh2sFWbO\"\n",
    "consumer_secret = \"tdLp4k7maEvGzsYbGrF41JP8Fvjggn8GmByAZfFeAup2wBMQVM\"\n",
    "access_token = \"1102467059496206336-S5T0bC4yRn3tvSAOwSB9bzISJj73Px\"\n",
    "access_token_secret = \"0hzO9aTsjOJl5vi3iGCGM60TIPWmu3vuMQSlRnRyaJQvT\"\n",
    "\n",
    "# Creating the authentication object\n",
    "auth = tweepy.OAuthHandler(consumer_key, consumer_secret)\n",
    "# Setting your access token and secret\n",
    "auth.set_access_token(access_token, access_token_secret)\n",
    "# Creating the API object while passing in auth information\n",
    "api = tweepy.API(auth,wait_on_rate_limit=True,wait_on_rate_limit_notify=True) \n",
    "text = \"\"\n",
    "tweetCount = 0\n",
    "tweetChecklist = []\n",
    "new_search = \"Toronto Raptors OR #Raptors OR @Raptors -filter:retweets\"\n",
    "\n",
    "with open('atlantic_TwitterData.txt', 'a+') as f:\n",
    "\n",
    "    #Tell the Cursor method that we want to use the Search API (api.search)\n",
    "    #Also tell Cursor our query, and the maximum number of tweets to return\n",
    "    for tweet in tweepy.Cursor(api.search,q=new_search,lang=\"en\",since='2019-01-01').items(1000) :         \n",
    "\n",
    "        #Verify the tweet has place info before writing (It should, if it got past our place filter)\n",
    "        if tweet.text is not None:\n",
    "            if tweet.text not in tweetChecklist:\n",
    "                # Store it, so that on further times with the same text, \n",
    "                # it didn't reach this code\n",
    "                tweet.text = tweet.text.replace('\\n', ' ')\n",
    "                tweetChecklist.append(tweet.text);\n",
    "            #Write the JSON format to the text file, and add one to the number of tweets we've collected\n",
    "                f.write(tweet.text)\n",
    "                f.write(\"\\n\")\n",
    "                tweetCount += 1\n",
    "\n",
    "    #Display how many tweets we have collected\n",
    "    print(\"Downloaded {0} tweets\".format(tweetCount))"
   ]
  },
  {
   "cell_type": "code",
   "execution_count": 13,
   "metadata": {},
   "outputs": [
    {
     "name": "stderr",
     "output_type": "stream",
     "text": [
      "Rate limit reached. Sleeping for: 660\n"
     ]
    },
    {
     "name": "stdout",
     "output_type": "stream",
     "text": [
      "Downloaded 998 tweets\n"
     ]
    }
   ],
   "source": [
    "import tweepy\n",
    "consumer_key = \"JlWj4jM87fZwG29kJVh2sFWbO\"\n",
    "consumer_secret = \"tdLp4k7maEvGzsYbGrF41JP8Fvjggn8GmByAZfFeAup2wBMQVM\"\n",
    "access_token = \"1102467059496206336-S5T0bC4yRn3tvSAOwSB9bzISJj73Px\"\n",
    "access_token_secret = \"0hzO9aTsjOJl5vi3iGCGM60TIPWmu3vuMQSlRnRyaJQvT\"\n",
    "\n",
    "# Creating the authentication object\n",
    "auth = tweepy.OAuthHandler(consumer_key, consumer_secret)\n",
    "# Setting your access token and secret\n",
    "auth.set_access_token(access_token, access_token_secret)\n",
    "# Creating the API object while passing in auth information\n",
    "api = tweepy.API(auth,wait_on_rate_limit=True,wait_on_rate_limit_notify=True) \n",
    "text = \"\"\n",
    "tweetCount = 0\n",
    "tweetChecklist = []\n",
    "new_search = \"Boston Celtics OR #celtics OR @celtics -filter:retweets\"\n",
    "\n",
    "with open('atlantic_TwitterData.txt', 'a+') as f:\n",
    "\n",
    "    #Tell the Cursor method that we want to use the Search API (api.search)\n",
    "    #Also tell Cursor our query, and the maximum number of tweets to return\n",
    "    for tweet in tweepy.Cursor(api.search,q=new_search,lang=\"en\",since='2019-01-01').items(1000) :         \n",
    "\n",
    "        #Verify the tweet has place info before writing (It should, if it got past our place filter)\n",
    "        if tweet.text is not None:\n",
    "            if tweet.text not in tweetChecklist:\n",
    "                # Store it, so that on further times with the same text, \n",
    "                # it didn't reach this code\n",
    "                tweet.text = tweet.text.replace('\\n', ' ')\n",
    "                tweetChecklist.append(tweet.text);\n",
    "            #Write the JSON format to the text file, and add one to the number of tweets we've collected\n",
    "                f.write(tweet.text)\n",
    "                f.write(\"\\n\")\n",
    "                tweetCount += 1\n",
    "\n",
    "    #Display how many tweets we have collected\n",
    "    print(\"Downloaded {0} tweets\".format(tweetCount))"
   ]
  },
  {
   "cell_type": "code",
   "execution_count": 14,
   "metadata": {},
   "outputs": [
    {
     "name": "stdout",
     "output_type": "stream",
     "text": [
      "Downloaded 997 tweets\n"
     ]
    }
   ],
   "source": [
    "import tweepy\n",
    "consumer_key = \"JlWj4jM87fZwG29kJVh2sFWbO\"\n",
    "consumer_secret = \"tdLp4k7maEvGzsYbGrF41JP8Fvjggn8GmByAZfFeAup2wBMQVM\"\n",
    "access_token = \"1102467059496206336-S5T0bC4yRn3tvSAOwSB9bzISJj73Px\"\n",
    "access_token_secret = \"0hzO9aTsjOJl5vi3iGCGM60TIPWmu3vuMQSlRnRyaJQvT\"\n",
    "\n",
    "# Creating the authentication object\n",
    "auth = tweepy.OAuthHandler(consumer_key, consumer_secret)\n",
    "# Setting your access token and secret\n",
    "auth.set_access_token(access_token, access_token_secret)\n",
    "# Creating the API object while passing in auth information\n",
    "api = tweepy.API(auth,wait_on_rate_limit=True,wait_on_rate_limit_notify=True) \n",
    "text = \"\"\n",
    "tweetCount = 0\n",
    "tweetChecklist = []\n",
    "new_search = \"Brooklyn Nets OR #nets OR @BrooklynNets -filter:retweets\"\n",
    "\n",
    "with open('atlantic_TwitterData.txt', 'a+') as f:\n",
    "\n",
    "    #Tell the Cursor method that we want to use the Search API (api.search)\n",
    "    #Also tell Cursor our query, and the maximum number of tweets to return\n",
    "    for tweet in tweepy.Cursor(api.search,q=new_search,lang=\"en\",since='2019-01-01').items(1000) :         \n",
    "\n",
    "        #Verify the tweet has place info before writing (It should, if it got past our place filter)\n",
    "        if tweet.text is not None:\n",
    "            if tweet.text not in tweetChecklist:\n",
    "                # Store it, so that on further times with the same text, \n",
    "                # it didn't reach this code\n",
    "                tweet.text = tweet.text.replace('\\n', ' ')\n",
    "                tweetChecklist.append(tweet.text);\n",
    "            #Write the JSON format to the text file, and add one to the number of tweets we've collected\n",
    "                f.write(tweet.text)\n",
    "                f.write(\"\\n\")\n",
    "                tweetCount += 1\n",
    "\n",
    "    #Display how many tweets we have collected\n",
    "    print(\"Downloaded {0} tweets\".format(tweetCount))"
   ]
  },
  {
   "cell_type": "code",
   "execution_count": 15,
   "metadata": {},
   "outputs": [
    {
     "name": "stdout",
     "output_type": "stream",
     "text": [
      "Downloaded 989 tweets\n"
     ]
    }
   ],
   "source": [
    "import tweepy\n",
    "consumer_key = \"JlWj4jM87fZwG29kJVh2sFWbO\"\n",
    "consumer_secret = \"tdLp4k7maEvGzsYbGrF41JP8Fvjggn8GmByAZfFeAup2wBMQVM\"\n",
    "access_token = \"1102467059496206336-S5T0bC4yRn3tvSAOwSB9bzISJj73Px\"\n",
    "access_token_secret = \"0hzO9aTsjOJl5vi3iGCGM60TIPWmu3vuMQSlRnRyaJQvT\"\n",
    "\n",
    "# Creating the authentication object\n",
    "auth = tweepy.OAuthHandler(consumer_key, consumer_secret)\n",
    "# Setting your access token and secret\n",
    "auth.set_access_token(access_token, access_token_secret)\n",
    "# Creating the API object while passing in auth information\n",
    "api = tweepy.API(auth,wait_on_rate_limit=True,wait_on_rate_limit_notify=True) \n",
    "text = \"\"\n",
    "tweetCount = 0\n",
    "tweetChecklist = []\n",
    "new_search = \"New York Knicks OR #knicks OR @nyknicks -filter:retweets\"\n",
    "\n",
    "with open('atlantic_TwitterData.txt', 'a+') as f:\n",
    "\n",
    "    #Tell the Cursor method that we want to use the Search API (api.search)\n",
    "    #Also tell Cursor our query, and the maximum number of tweets to return\n",
    "    for tweet in tweepy.Cursor(api.search,q=new_search,lang=\"en\",since='2019-01-01').items(1000) :         \n",
    "\n",
    "        #Verify the tweet has place info before writing (It should, if it got past our place filter)\n",
    "        if tweet.text is not None:\n",
    "            if tweet.text not in tweetChecklist:\n",
    "                # Store it, so that on further times with the same text, \n",
    "                # it didn't reach this code\n",
    "                tweet.text = tweet.text.replace('\\n', ' ')\n",
    "                tweetChecklist.append(tweet.text);\n",
    "            #Write the JSON format to the text file, and add one to the number of tweets we've collected\n",
    "                f.write(tweet.text)\n",
    "                f.write(\"\\n\")\n",
    "                tweetCount += 1\n",
    "\n",
    "    #Display how many tweets we have collected\n",
    "    print(\"Downloaded {0} tweets\".format(tweetCount))"
   ]
  },
  {
   "cell_type": "code",
   "execution_count": 16,
   "metadata": {},
   "outputs": [
    {
     "name": "stdout",
     "output_type": "stream",
     "text": [
      "Downloaded 999 tweets\n"
     ]
    }
   ],
   "source": [
    "import tweepy\n",
    "consumer_key = \"JlWj4jM87fZwG29kJVh2sFWbO\"\n",
    "consumer_secret = \"tdLp4k7maEvGzsYbGrF41JP8Fvjggn8GmByAZfFeAup2wBMQVM\"\n",
    "access_token = \"1102467059496206336-S5T0bC4yRn3tvSAOwSB9bzISJj73Px\"\n",
    "access_token_secret = \"0hzO9aTsjOJl5vi3iGCGM60TIPWmu3vuMQSlRnRyaJQvT\"\n",
    "\n",
    "# Creating the authentication object\n",
    "auth = tweepy.OAuthHandler(consumer_key, consumer_secret)\n",
    "# Setting your access token and secret\n",
    "auth.set_access_token(access_token, access_token_secret)\n",
    "# Creating the API object while passing in auth information\n",
    "api = tweepy.API(auth,wait_on_rate_limit=True,wait_on_rate_limit_notify=True) \n",
    "text = \"\"\n",
    "tweetCount = 0\n",
    "tweetChecklist = []\n",
    "new_search = \"Golden State Warriors OR @warriors OR The Dubs OR The Warriors OR State Warriors OR Golden State OR Warriors OR GSW -filter:retweets\"\n",
    "\n",
    "with open('pacific_twitterData.txt', 'w') as f:\n",
    "\n",
    "    #Tell the Cursor method that we want to use the Search API (api.search)\n",
    "    #Also tell Cursor our query, and the maximum number of tweets to return\n",
    "    for tweet in tweepy.Cursor(api.search,q=new_search,lang=\"en\",since='2019-01-01').items(1000) :         \n",
    "\n",
    "        #Verify the tweet has place info before writing (It should, if it got past our place filter)\n",
    "        if tweet.text is not None:\n",
    "            if tweet.text not in tweetChecklist:\n",
    "                # Store it, so that on further times with the same text, \n",
    "                # it didn't reach this code\n",
    "                tweet.text = tweet.text.replace('\\n', ' ')\n",
    "                tweetChecklist.append(tweet.text);\n",
    "            #Write the JSON format to the text file, and add one to the number of tweets we've collected\n",
    "                f.write(tweet.text)\n",
    "                f.write(\"\\n\")\n",
    "                tweetCount += 1\n",
    "\n",
    "    #Display how many tweets we have collected\n",
    "    print(\"Downloaded {0} tweets\".format(tweetCount))"
   ]
  },
  {
   "cell_type": "code",
   "execution_count": 17,
   "metadata": {},
   "outputs": [
    {
     "name": "stdout",
     "output_type": "stream",
     "text": [
      "Downloaded 991 tweets\n"
     ]
    }
   ],
   "source": [
    "import tweepy\n",
    "consumer_key = \"JlWj4jM87fZwG29kJVh2sFWbO\"\n",
    "consumer_secret = \"tdLp4k7maEvGzsYbGrF41JP8Fvjggn8GmByAZfFeAup2wBMQVM\"\n",
    "access_token = \"1102467059496206336-S5T0bC4yRn3tvSAOwSB9bzISJj73Px\"\n",
    "access_token_secret = \"0hzO9aTsjOJl5vi3iGCGM60TIPWmu3vuMQSlRnRyaJQvT\"\n",
    "\n",
    "# Creating the authentication object\n",
    "auth = tweepy.OAuthHandler(consumer_key, consumer_secret)\n",
    "# Setting your access token and secret\n",
    "auth.set_access_token(access_token, access_token_secret)\n",
    "# Creating the API object while passing in auth information\n",
    "api = tweepy.API(auth,wait_on_rate_limit=True,wait_on_rate_limit_notify=True) \n",
    "text = \"\"\n",
    "tweetCount = 0\n",
    "tweetChecklist = []\n",
    "new_search = \"lakers OR los angeles lakers OR #lakers -filter:retweets\"\n",
    "\n",
    "with open('pacific_twitterData.txt', 'a+') as f:\n",
    "\n",
    "    #Tell the Cursor method that we want to use the Search API (api.search)\n",
    "    #Also tell Cursor our query, and the maximum number of tweets to return\n",
    "    for tweet in tweepy.Cursor(api.search,q=new_search,lang=\"en\",since='2019-01-01').items(1000) :         \n",
    "    \n",
    "        #Verify the tweet has place info before writing (It should, if it got past our place filter)\n",
    "        if tweet.text is not None:\n",
    "            if tweet.text not in tweetChecklist:\n",
    "                # Store it, so that on further times with the same text, \n",
    "                # it didn't reach this code\n",
    "                tweet.text = tweet.text.replace('\\n', ' ')\n",
    "                tweetChecklist.append(tweet.text);\n",
    "            #Write the JSON format to the text file, and add one to the number of tweets we've collected\n",
    "                f.write(tweet.text)\n",
    "                f.write(\"\\n\")\n",
    "                tweetCount += 1\n",
    "\n",
    "    #Display how many tweets we have collected\n",
    "    print(\"Downloaded {0} tweets\".format(tweetCount))"
   ]
  },
  {
   "cell_type": "code",
   "execution_count": 18,
   "metadata": {},
   "outputs": [
    {
     "name": "stderr",
     "output_type": "stream",
     "text": [
      "Rate limit reached. Sleeping for: 719\n"
     ]
    },
    {
     "name": "stdout",
     "output_type": "stream",
     "text": [
      "Downloaded 993 tweets\n"
     ]
    }
   ],
   "source": [
    "import tweepy\n",
    "consumer_key = \"JlWj4jM87fZwG29kJVh2sFWbO\"\n",
    "consumer_secret = \"tdLp4k7maEvGzsYbGrF41JP8Fvjggn8GmByAZfFeAup2wBMQVM\"\n",
    "access_token = \"1102467059496206336-S5T0bC4yRn3tvSAOwSB9bzISJj73Px\"\n",
    "access_token_secret = \"0hzO9aTsjOJl5vi3iGCGM60TIPWmu3vuMQSlRnRyaJQvT\"\n",
    "\n",
    "# Creating the authentication object\n",
    "auth = tweepy.OAuthHandler(consumer_key, consumer_secret)\n",
    "# Setting your access token and secret\n",
    "auth.set_access_token(access_token, access_token_secret)\n",
    "# Creating the API object while passing in auth information\n",
    "api = tweepy.API(auth,wait_on_rate_limit=True,wait_on_rate_limit_notify=True) \n",
    "text = \"\"\n",
    "tweetCount = 0\n",
    "tweetChecklist = []\n",
    "new_search = \"los angeles clippers OR @LAClippers OR #clippers -filter:retweets\"\n",
    "\n",
    "with open('pacific_twitterData.txt', 'a+') as f:\n",
    "\n",
    "    #Tell the Cursor method that we want to use the Search API (api.search)\n",
    "    #Also tell Cursor our query, and the maximum number of tweets to return\n",
    "    for tweet in tweepy.Cursor(api.search,q=new_search,lang=\"en\",since='2019-01-01').items(1000) :         \n",
    "    \n",
    "        #Verify the tweet has place info before writing (It should, if it got past our place filter)\n",
    "        if tweet.text is not None:\n",
    "            if tweet.text not in tweetChecklist:\n",
    "                # Store it, so that on further times with the same text, \n",
    "                # it didn't reach this code\n",
    "                tweet.text = tweet.text.replace('\\n', ' ')\n",
    "                tweetChecklist.append(tweet.text);\n",
    "            #Write the JSON format to the text file, and add one to the number of tweets we've collected\n",
    "                f.write(tweet.text)\n",
    "                f.write(\"\\n\")\n",
    "                tweetCount += 1\n",
    "\n",
    "    #Display how many tweets we have collected\n",
    "    print(\"Downloaded {0} tweets\".format(tweetCount))"
   ]
  },
  {
   "cell_type": "code",
   "execution_count": 19,
   "metadata": {},
   "outputs": [
    {
     "name": "stdout",
     "output_type": "stream",
     "text": [
      "Downloaded 995 tweets\n"
     ]
    }
   ],
   "source": [
    "import tweepy\n",
    "consumer_key = \"JlWj4jM87fZwG29kJVh2sFWbO\"\n",
    "consumer_secret = \"tdLp4k7maEvGzsYbGrF41JP8Fvjggn8GmByAZfFeAup2wBMQVM\"\n",
    "access_token = \"1102467059496206336-S5T0bC4yRn3tvSAOwSB9bzISJj73Px\"\n",
    "access_token_secret = \"0hzO9aTsjOJl5vi3iGCGM60TIPWmu3vuMQSlRnRyaJQvT\"\n",
    "\n",
    "# Creating the authentication object\n",
    "auth = tweepy.OAuthHandler(consumer_key, consumer_secret)\n",
    "# Setting your access token and secret\n",
    "auth.set_access_token(access_token, access_token_secret)\n",
    "# Creating the API object while passing in auth information\n",
    "api = tweepy.API(auth,wait_on_rate_limit=True,wait_on_rate_limit_notify=True) \n",
    "text = \"\"\n",
    "tweetCount = 0\n",
    "tweetChecklist = []\n",
    "new_search = \"phoenix suns OR @Suns -filter:retweets\"\n",
    "\n",
    "with open('pacific_twitterData.txt', 'a+') as f:\n",
    "\n",
    "    #Tell the Cursor method that we want to use the Search API (api.search)\n",
    "    #Also tell Cursor our query, and the maximum number of tweets to return\n",
    "    for tweet in tweepy.Cursor(api.search,q=new_search,lang=\"en\",since='2019-01-01').items(1000) :         \n",
    "    \n",
    "        #Verify the tweet has place info before writing (It should, if it got past our place filter)\n",
    "        if tweet.text is not None:\n",
    "            if tweet.text not in tweetChecklist:\n",
    "                # Store it, so that on further times with the same text, \n",
    "                # it didn't reach this code\n",
    "                tweet.text = tweet.text.replace('\\n', ' ')\n",
    "                tweetChecklist.append(tweet.text);\n",
    "            #Write the JSON format to the text file, and add one to the number of tweets we've collected\n",
    "                f.write(tweet.text)\n",
    "                f.write(\"\\n\")\n",
    "                tweetCount += 1\n",
    "\n",
    "    #Display how many tweets we have collected\n",
    "    print(\"Downloaded {0} tweets\".format(tweetCount))"
   ]
  },
  {
   "cell_type": "code",
   "execution_count": 20,
   "metadata": {},
   "outputs": [
    {
     "name": "stdout",
     "output_type": "stream",
     "text": [
      "Downloaded 1000 tweets\n"
     ]
    }
   ],
   "source": [
    "import tweepy\n",
    "consumer_key = \"JlWj4jM87fZwG29kJVh2sFWbO\"\n",
    "consumer_secret = \"tdLp4k7maEvGzsYbGrF41JP8Fvjggn8GmByAZfFeAup2wBMQVM\"\n",
    "access_token = \"1102467059496206336-S5T0bC4yRn3tvSAOwSB9bzISJj73Px\"\n",
    "access_token_secret = \"0hzO9aTsjOJl5vi3iGCGM60TIPWmu3vuMQSlRnRyaJQvT\"\n",
    "\n",
    "# Creating the authentication object\n",
    "auth = tweepy.OAuthHandler(consumer_key, consumer_secret)\n",
    "# Setting your access token and secret\n",
    "auth.set_access_token(access_token, access_token_secret)\n",
    "# Creating the API object while passing in auth information\n",
    "api = tweepy.API(auth,wait_on_rate_limit=True,wait_on_rate_limit_notify=True) \n",
    "text = \"\"\n",
    "tweetCount = 0\n",
    "tweetChecklist = []\n",
    "new_search = \"sacramento kings OR #kings OR @SacramentoKings -filter:retweets\"\n",
    "\n",
    "with open('pacific_twitterData.txt', 'a+') as f:\n",
    "\n",
    "    #Tell the Cursor method that we want to use the Search API (api.search)\n",
    "    #Also tell Cursor our query, and the maximum number of tweets to return\n",
    "    for tweet in tweepy.Cursor(api.search,q=new_search,lang=\"en\",since='2019-01-01').items(1000) :         \n",
    "    \n",
    "        #Verify the tweet has place info before writing (It should, if it got past our place filter)\n",
    "        if tweet.text is not None:\n",
    "            if tweet.text not in tweetChecklist:\n",
    "                # Store it, so that on further times with the same text, \n",
    "                # it didn't reach this code\n",
    "                tweet.text = tweet.text.replace('\\n', ' ')\n",
    "                tweetChecklist.append(tweet.text);\n",
    "            #Write the JSON format to the text file, and add one to the number of tweets we've collected\n",
    "                f.write(tweet.text)\n",
    "                f.write(\"\\n\")\n",
    "                tweetCount += 1\n",
    "\n",
    "    #Display how many tweets we have collected\n",
    "    print(\"Downloaded {0} tweets\".format(tweetCount))"
   ]
  },
  {
   "cell_type": "code",
   "execution_count": 52,
   "metadata": {},
   "outputs": [
    {
     "name": "stderr",
     "output_type": "stream",
     "text": [
      "Rate limit reached. Sleeping for: 487\n"
     ]
    },
    {
     "name": "stdout",
     "output_type": "stream",
     "text": [
      "Downloaded 494 tweets\n"
     ]
    }
   ],
   "source": [
    "import tweepy\n",
    "consumer_key = \"JlWj4jM87fZwG29kJVh2sFWbO\"\n",
    "consumer_secret = \"tdLp4k7maEvGzsYbGrF41JP8Fvjggn8GmByAZfFeAup2wBMQVM\"\n",
    "access_token = \"1102467059496206336-S5T0bC4yRn3tvSAOwSB9bzISJj73Px\"\n",
    "access_token_secret = \"0hzO9aTsjOJl5vi3iGCGM60TIPWmu3vuMQSlRnRyaJQvT\"\n",
    "\n",
    "# Creating the authentication object\n",
    "auth = tweepy.OAuthHandler(consumer_key, consumer_secret)\n",
    "# Setting your access token and secret\n",
    "auth.set_access_token(access_token, access_token_secret)\n",
    "# Creating the API object while passing in auth information\n",
    "api = tweepy.API(auth,wait_on_rate_limit=True,wait_on_rate_limit_notify=True) \n",
    "text = \"\"\n",
    "tweetCount = 0\n",
    "\n",
    "new_search = \"Houston Rockets OR Rockets OR @HoustonRockets -filter:retweets\"\n",
    "\n",
    "with open('southwest_twitterData.txt', 'w') as f:\n",
    "\n",
    "    #Tell the Cursor method that we want to use the Search API (api.search)\n",
    "    #Also tell Cursor our query, and the maximum number of tweets to return\n",
    "    for tweet in tweepy.Cursor(api.search,q=new_search,lang=\"en\",since='2019-01-01').items(1000) :         \n",
    "\n",
    "        #Verify the tweet has place info before writing (It should, if it got past our place filter)\n",
    "        if tweet.text is not None:\n",
    "             if tweet.text not in tweetChecklist:\n",
    "                # Store it, so that on further times with the same text, \n",
    "                # it didn't reach this code\n",
    "                tweet.text = tweet.text.replace('\\n', ' ')\n",
    "                tweetChecklist.append(tweet.text);\n",
    "            #Write the JSON format to the text file, and add one to the number of tweets we've collected\n",
    "                f.write(tweet.text)\n",
    "                f.write(\"\\n\")\n",
    "                tweetCount += 1\n",
    "\n",
    "    #Display how many tweets we have collected\n",
    "    print(\"Downloaded {0} tweets\".format(tweetCount))"
   ]
  },
  {
   "cell_type": "code",
   "execution_count": 53,
   "metadata": {},
   "outputs": [
    {
     "name": "stdout",
     "output_type": "stream",
     "text": [
      "Downloaded 126 tweets\n"
     ]
    }
   ],
   "source": [
    "import tweepy\n",
    "consumer_key = \"JlWj4jM87fZwG29kJVh2sFWbO\"\n",
    "consumer_secret = \"tdLp4k7maEvGzsYbGrF41JP8Fvjggn8GmByAZfFeAup2wBMQVM\"\n",
    "access_token = \"1102467059496206336-S5T0bC4yRn3tvSAOwSB9bzISJj73Px\"\n",
    "access_token_secret = \"0hzO9aTsjOJl5vi3iGCGM60TIPWmu3vuMQSlRnRyaJQvT\"\n",
    "\n",
    "# Creating the authentication object\n",
    "auth = tweepy.OAuthHandler(consumer_key, consumer_secret)\n",
    "# Setting your access token and secret\n",
    "auth.set_access_token(access_token, access_token_secret)\n",
    "# Creating the API object while passing in auth information\n",
    "api = tweepy.API(auth,wait_on_rate_limit=True,wait_on_rate_limit_notify=True) \n",
    "text = \"\"\n",
    "tweetCount = 0\n",
    "\n",
    "new_search = \"#mavs OR Dallas Mavericks OR @dallasmavs -filter:retweets\"\n",
    "\n",
    "with open('southwest_twitterData.txt', 'a+') as f:\n",
    "\n",
    "    #Tell the Cursor method that we want to use the Search API (api.search)\n",
    "    #Also tell Cursor our query, and the maximum number of tweets to return\n",
    "    for tweet in tweepy.Cursor(api.search,q=new_search,lang=\"en\",since='2019-01-01').items(1000) :         \n",
    "\n",
    "        #Verify the tweet has place info before writing (It should, if it got past our place filter)\n",
    "        if tweet.text is not None:\n",
    "             if tweet.text not in tweetChecklist:\n",
    "                # Store it, so that on further times with the same text, \n",
    "                # it didn't reach this code\n",
    "                tweet.text = tweet.text.replace('\\n', ' ')\n",
    "                tweetChecklist.append(tweet.text);\n",
    "            #Write the JSON format to the text file, and add one to the number of tweets we've collected\n",
    "                f.write(tweet.text)\n",
    "                f.write(\"\\n\")\n",
    "                tweetCount += 1\n",
    "\n",
    "    #Display how many tweets we have collected\n",
    "    print(\"Downloaded {0} tweets\".format(tweetCount))"
   ]
  },
  {
   "cell_type": "code",
   "execution_count": 54,
   "metadata": {},
   "outputs": [
    {
     "name": "stderr",
     "output_type": "stream",
     "text": [
      "Rate limit reached. Sleeping for: 849\n"
     ]
    },
    {
     "name": "stdout",
     "output_type": "stream",
     "text": [
      "Downloaded 119 tweets\n"
     ]
    }
   ],
   "source": [
    "import tweepy\n",
    "consumer_key = \"JlWj4jM87fZwG29kJVh2sFWbO\"\n",
    "consumer_secret = \"tdLp4k7maEvGzsYbGrF41JP8Fvjggn8GmByAZfFeAup2wBMQVM\"\n",
    "access_token = \"1102467059496206336-S5T0bC4yRn3tvSAOwSB9bzISJj73Px\"\n",
    "access_token_secret = \"0hzO9aTsjOJl5vi3iGCGM60TIPWmu3vuMQSlRnRyaJQvT\"\n",
    "\n",
    "# Creating the authentication object\n",
    "auth = tweepy.OAuthHandler(consumer_key, consumer_secret)\n",
    "# Setting your access token and secret\n",
    "auth.set_access_token(access_token, access_token_secret)\n",
    "# Creating the API object while passing in auth information\n",
    "api = tweepy.API(auth,wait_on_rate_limit=True,wait_on_rate_limit_notify=True) \n",
    "text = \"\"\n",
    "tweetCount = 0\n",
    "\n",
    "new_search = \"Memphis Grizzlies OR #grizzlies OR @memgrizz OR @GrizzliesPR -filter:retweets\"\n",
    "\n",
    "with open('southwest_twitterData.txt', 'a+') as f:\n",
    "\n",
    "    #Tell the Cursor method that we want to use the Search API (api.search)\n",
    "    #Also tell Cursor our query, and the maximum number of tweets to return\n",
    "    for tweet in tweepy.Cursor(api.search,q=new_search,lang=\"en\",since='2019-01-01').items(1000) :         \n",
    "\n",
    "        #Verify the tweet has place info before writing (It should, if it got past our place filter)\n",
    "        if tweet.text is not None:\n",
    "             if tweet.text not in tweetChecklist:\n",
    "                # Store it, so that on further times with the same text, \n",
    "                # it didn't reach this code\n",
    "                tweet.text = tweet.text.replace('\\n', ' ')\n",
    "                tweetChecklist.append(tweet.text);\n",
    "            #Write the JSON format to the text file, and add one to the number of tweets we've collected\n",
    "                f.write(tweet.text)\n",
    "                f.write(\"\\n\")\n",
    "                tweetCount += 1\n",
    "\n",
    "    #Display how many tweets we have collected\n",
    "    print(\"Downloaded {0} tweets\".format(tweetCount))"
   ]
  },
  {
   "cell_type": "code",
   "execution_count": 55,
   "metadata": {},
   "outputs": [
    {
     "name": "stdout",
     "output_type": "stream",
     "text": [
      "Downloaded 91 tweets\n"
     ]
    }
   ],
   "source": [
    "import tweepy\n",
    "consumer_key = \"JlWj4jM87fZwG29kJVh2sFWbO\"\n",
    "consumer_secret = \"tdLp4k7maEvGzsYbGrF41JP8Fvjggn8GmByAZfFeAup2wBMQVM\"\n",
    "access_token = \"1102467059496206336-S5T0bC4yRn3tvSAOwSB9bzISJj73Px\"\n",
    "access_token_secret = \"0hzO9aTsjOJl5vi3iGCGM60TIPWmu3vuMQSlRnRyaJQvT\"\n",
    "\n",
    "# Creating the authentication object\n",
    "auth = tweepy.OAuthHandler(consumer_key, consumer_secret)\n",
    "# Setting your access token and secret\n",
    "auth.set_access_token(access_token, access_token_secret)\n",
    "# Creating the API object while passing in auth information\n",
    "api = tweepy.API(auth,wait_on_rate_limit=True,wait_on_rate_limit_notify=True) \n",
    "text = \"\"\n",
    "tweetCount = 0\n",
    "\n",
    "new_search = \"New Orleans Pelicans OR #pelicans OR @PelicansNBA -filter:retweets\"\n",
    "\n",
    "with open('southwest_twitterData.txt', 'a+') as f:\n",
    "\n",
    "    #Tell the Cursor method that we want to use the Search API (api.search)\n",
    "    #Also tell Cursor our query, and the maximum number of tweets to return\n",
    "    for tweet in tweepy.Cursor(api.search,q=new_search,lang=\"en\",since='2019-01-01').items(1000) :         \n",
    "\n",
    "        #Verify the tweet has place info before writing (It should, if it got past our place filter)\n",
    "        if tweet.text is not None:\n",
    "             if tweet.text not in tweetChecklist:\n",
    "                # Store it, so that on further times with the same text, \n",
    "                # it didn't reach this code\n",
    "                tweet.text = tweet.text.replace('\\n', ' ')\n",
    "                tweetChecklist.append(tweet.text);\n",
    "            #Write the JSON format to the text file, and add one to the number of tweets we've collected\n",
    "                f.write(tweet.text)\n",
    "                f.write(\"\\n\")\n",
    "                tweetCount += 1\n",
    "\n",
    "    #Display how many tweets we have collected\n",
    "    print(\"Downloaded {0} tweets\".format(tweetCount))"
   ]
  },
  {
   "cell_type": "code",
   "execution_count": 56,
   "metadata": {},
   "outputs": [
    {
     "name": "stdout",
     "output_type": "stream",
     "text": [
      "Downloaded 301 tweets\n"
     ]
    }
   ],
   "source": [
    "import tweepy\n",
    "consumer_key = \"JlWj4jM87fZwG29kJVh2sFWbO\"\n",
    "consumer_secret = \"tdLp4k7maEvGzsYbGrF41JP8Fvjggn8GmByAZfFeAup2wBMQVM\"\n",
    "access_token = \"1102467059496206336-S5T0bC4yRn3tvSAOwSB9bzISJj73Px\"\n",
    "access_token_secret = \"0hzO9aTsjOJl5vi3iGCGM60TIPWmu3vuMQSlRnRyaJQvT\"\n",
    "\n",
    "# Creating the authentication object\n",
    "auth = tweepy.OAuthHandler(consumer_key, consumer_secret)\n",
    "# Setting your access token and secret\n",
    "auth.set_access_token(access_token, access_token_secret)\n",
    "# Creating the API object while passing in auth information\n",
    "api = tweepy.API(auth,wait_on_rate_limit=True,wait_on_rate_limit_notify=True) \n",
    "text = \"\"\n",
    "tweetCount = 0\n",
    "\n",
    "new_search = \"San Antonio Spurs OR #spurs -filter:retweets\"\n",
    "\n",
    "with open('southwest_twitterData.txt', 'a+') as f:\n",
    "\n",
    "    #Tell the Cursor method that we want to use the Search API (api.search)\n",
    "    #Also tell Cursor our query, and the maximum number of tweets to return\n",
    "    for tweet in tweepy.Cursor(api.search,q=new_search,lang=\"en\",since='2019-01-01').items(1000) :         \n",
    "\n",
    "        #Verify the tweet has place info before writing (It should, if it got past our place filter)\n",
    "        if tweet.text is not None:\n",
    "             if tweet.text not in tweetChecklist:\n",
    "                # Store it, so that on further times with the same text, \n",
    "                # it didn't reach this code\n",
    "                tweet.text = tweet.text.replace('\\n', ' ')\n",
    "                tweetChecklist.append(tweet.text);\n",
    "            #Write the JSON format to the text file, and add one to the number of tweets we've collected\n",
    "                f.write(tweet.text)\n",
    "                f.write(\"\\n\")\n",
    "                tweetCount += 1\n",
    "\n",
    "    #Display how many tweets we have collected\n",
    "    print(\"Downloaded {0} tweets\".format(tweetCount))"
   ]
  },
  {
   "cell_type": "code",
   "execution_count": 37,
   "metadata": {},
   "outputs": [
    {
     "name": "stdout",
     "output_type": "stream",
     "text": [
      "Downloaded 242 tweets\n"
     ]
    }
   ],
   "source": [
    "import tweepy\n",
    "consumer_key = \"JlWj4jM87fZwG29kJVh2sFWbO\"\n",
    "consumer_secret = \"tdLp4k7maEvGzsYbGrF41JP8Fvjggn8GmByAZfFeAup2wBMQVM\"\n",
    "access_token = \"1102467059496206336-S5T0bC4yRn3tvSAOwSB9bzISJj73Px\"\n",
    "access_token_secret = \"0hzO9aTsjOJl5vi3iGCGM60TIPWmu3vuMQSlRnRyaJQvT\"\n",
    "\n",
    "# Creating the authentication object\n",
    "auth = tweepy.OAuthHandler(consumer_key, consumer_secret)\n",
    "# Setting your access token and secret\n",
    "auth.set_access_token(access_token, access_token_secret)\n",
    "# Creating the API object while passing in auth information\n",
    "api = tweepy.API(auth,wait_on_rate_limit=True,wait_on_rate_limit_notify=True) \n",
    "text = \"\"\n",
    "tweetCount = 0\n",
    "\n",
    "new_search = \"Denver Nuggets OR #nuggets OR @nuggets -filter:retweets\"\n",
    "\n",
    "with open('northwest_twitterData.txt', 'w') as f:\n",
    "\n",
    "    #Tell the Cursor method that we want to use the Search API (api.search)\n",
    "    #Also tell Cursor our query, and the maximum number of tweets to return\n",
    "    for tweet in tweepy.Cursor(api.search,q=new_search,lang=\"en\",since='2019-01-01').items(1000) :         \n",
    "\n",
    "        #Verify the tweet has place info before writing (It should, if it got past our place filter)\n",
    "        if tweet.text is not None:\n",
    "             if tweet.text not in tweetChecklist:\n",
    "                # Store it, so that on further times with the same text, \n",
    "                # it didn't reach this code\n",
    "                tweet.text = tweet.text.replace('\\n', ' ')\n",
    "                tweetChecklist.append(tweet.text);\n",
    "            #Write the JSON format to the text file, and add one to the number of tweets we've collected\n",
    "                f.write(tweet.text)\n",
    "                f.write(\"\\n\")\n",
    "                tweetCount += 1\n",
    "\n",
    "    #Display how many tweets we have collected\n",
    "    print(\"Downloaded {0} tweets\".format(tweetCount))"
   ]
  },
  {
   "cell_type": "code",
   "execution_count": 38,
   "metadata": {},
   "outputs": [
    {
     "name": "stdout",
     "output_type": "stream",
     "text": [
      "Downloaded 42 tweets\n"
     ]
    }
   ],
   "source": [
    "import tweepy\n",
    "consumer_key = \"JlWj4jM87fZwG29kJVh2sFWbO\"\n",
    "consumer_secret = \"tdLp4k7maEvGzsYbGrF41JP8Fvjggn8GmByAZfFeAup2wBMQVM\"\n",
    "access_token = \"1102467059496206336-S5T0bC4yRn3tvSAOwSB9bzISJj73Px\"\n",
    "access_token_secret = \"0hzO9aTsjOJl5vi3iGCGM60TIPWmu3vuMQSlRnRyaJQvT\"\n",
    "\n",
    "# Creating the authentication object\n",
    "auth = tweepy.OAuthHandler(consumer_key, consumer_secret)\n",
    "# Setting your access token and secret\n",
    "auth.set_access_token(access_token, access_token_secret)\n",
    "# Creating the API object while passing in auth information\n",
    "api = tweepy.API(auth,wait_on_rate_limit=True,wait_on_rate_limit_notify=True) \n",
    "text = \"\"\n",
    "tweetCount = 0\n",
    "\n",
    "new_search = \"Minnesota Timberwolves OR #twolves OR @Timberwolves -filter:retweets\"\n",
    "\n",
    "with open('northwest_twitterData.txt', 'a+') as f:\n",
    "\n",
    "    #Tell the Cursor method that we want to use the Search API (api.search)\n",
    "    #Also tell Cursor our query, and the maximum number of tweets to return\n",
    "    for tweet in tweepy.Cursor(api.search,q=new_search,lang=\"en\",since='2019-01-01').items(2000) :         \n",
    "\n",
    "        #Verify the tweet has place info before writing (It should, if it got past our place filter)\n",
    "        if tweet.text is not None:\n",
    "             if tweet.text not in tweetChecklist:\n",
    "                # Store it, so that on further times with the same text, \n",
    "                # it didn't reach this code\n",
    "                tweet.text = tweet.text.replace('\\n', ' ')\n",
    "                tweetChecklist.append(tweet.text);\n",
    "            #Write the JSON format to the text file, and add one to the number of tweets we've collected\n",
    "                f.write(tweet.text)\n",
    "                f.write(\"\\n\")\n",
    "                tweetCount += 1\n",
    "\n",
    "    #Display how many tweets we have collected\n",
    "    print(\"Downloaded {0} tweets\".format(tweetCount))"
   ]
  },
  {
   "cell_type": "code",
   "execution_count": 39,
   "metadata": {},
   "outputs": [
    {
     "name": "stdout",
     "output_type": "stream",
     "text": [
      "Downloaded 223 tweets\n"
     ]
    }
   ],
   "source": [
    "import tweepy\n",
    "consumer_key = \"JlWj4jM87fZwG29kJVh2sFWbO\"\n",
    "consumer_secret = \"tdLp4k7maEvGzsYbGrF41JP8Fvjggn8GmByAZfFeAup2wBMQVM\"\n",
    "access_token = \"1102467059496206336-S5T0bC4yRn3tvSAOwSB9bzISJj73Px\"\n",
    "access_token_secret = \"0hzO9aTsjOJl5vi3iGCGM60TIPWmu3vuMQSlRnRyaJQvT\"\n",
    "\n",
    "# Creating the authentication object\n",
    "auth = tweepy.OAuthHandler(consumer_key, consumer_secret)\n",
    "# Setting your access token and secret\n",
    "auth.set_access_token(access_token, access_token_secret)\n",
    "# Creating the API object while passing in auth information\n",
    "api = tweepy.API(auth,wait_on_rate_limit=True,wait_on_rate_limit_notify=True) \n",
    "text = \"\"\n",
    "tweetCount = 0\n",
    "\n",
    "new_search = \"Oklahoma City Thunder OR #okc OR @okcthunder -filter:retweets\"\n",
    "\n",
    "with open('northwest_twitterData.txt', 'a+') as f:\n",
    "\n",
    "    #Tell the Cursor method that we want to use the Search API (api.search)\n",
    "    #Also tell Cursor our query, and the maximum number of tweets to return\n",
    "    for tweet in tweepy.Cursor(api.search,q=new_search,lang=\"en\",since='2019-01-01').items(2000) :         \n",
    "\n",
    "        #Verify the tweet has place info before writing (It should, if it got past our place filter)\n",
    "        if tweet.text is not None:\n",
    "             if tweet.text not in tweetChecklist:\n",
    "                # Store it, so that on further times with the same text, \n",
    "                # it didn't reach this code\n",
    "                tweet.text = tweet.text.replace('\\n', ' ')\n",
    "                tweetChecklist.append(tweet.text);\n",
    "            #Write the JSON format to the text file, and add one to the number of tweets we've collected\n",
    "                f.write(tweet.text)\n",
    "                f.write(\"\\n\")\n",
    "                tweetCount += 1\n",
    "\n",
    "    #Display how many tweets we have collected\n",
    "    print(\"Downloaded {0} tweets\".format(tweetCount))"
   ]
  },
  {
   "cell_type": "code",
   "execution_count": 40,
   "metadata": {},
   "outputs": [
    {
     "name": "stderr",
     "output_type": "stream",
     "text": [
      "Rate limit reached. Sleeping for: 814\n"
     ]
    },
    {
     "name": "stdout",
     "output_type": "stream",
     "text": [
      "Downloaded 230 tweets\n"
     ]
    }
   ],
   "source": [
    "import tweepy\n",
    "consumer_key = \"JlWj4jM87fZwG29kJVh2sFWbO\"\n",
    "consumer_secret = \"tdLp4k7maEvGzsYbGrF41JP8Fvjggn8GmByAZfFeAup2wBMQVM\"\n",
    "access_token = \"1102467059496206336-S5T0bC4yRn3tvSAOwSB9bzISJj73Px\"\n",
    "access_token_secret = \"0hzO9aTsjOJl5vi3iGCGM60TIPWmu3vuMQSlRnRyaJQvT\"\n",
    "\n",
    "# Creating the authentication object\n",
    "auth = tweepy.OAuthHandler(consumer_key, consumer_secret)\n",
    "# Setting your access token and secret\n",
    "auth.set_access_token(access_token, access_token_secret)\n",
    "# Creating the API object while passing in auth information\n",
    "api = tweepy.API(auth,wait_on_rate_limit=True,wait_on_rate_limit_notify=True) \n",
    "text = \"\"\n",
    "tweetCount = 0\n",
    "\n",
    "new_search = \"Portland Trail Blazers OR #blazers OR @trailblazers -filter:retweets\"\n",
    "\n",
    "with open('northwest_twitterData.txt', 'a+') as f:\n",
    "\n",
    "    #Tell the Cursor method that we want to use the Search API (api.search)\n",
    "    #Also tell Cursor our query, and the maximum number of tweets to return\n",
    "    for tweet in tweepy.Cursor(api.search,q=new_search,lang=\"en\",since='2019-01-01').items(2000) :         \n",
    "\n",
    "        #Verify the tweet has place info before writing (It should, if it got past our place filter)\n",
    "        if tweet.text is not None:\n",
    "             if tweet.text not in tweetChecklist:\n",
    "                # Store it, so that on further times with the same text, \n",
    "                # it didn't reach this code\n",
    "                tweet.text = tweet.text.replace('\\n', ' ')\n",
    "                tweetChecklist.append(tweet.text);\n",
    "            #Write the JSON format to the text file, and add one to the number of tweets we've collected\n",
    "                f.write(tweet.text)\n",
    "                f.write(\"\\n\")\n",
    "                tweetCount += 1\n",
    "\n",
    "    #Display how many tweets we have collected\n",
    "    print(\"Downloaded {0} tweets\".format(tweetCount))"
   ]
  },
  {
   "cell_type": "code",
   "execution_count": 41,
   "metadata": {},
   "outputs": [
    {
     "name": "stderr",
     "output_type": "stream",
     "text": [
      "Rate limit reached. Sleeping for: 157\n"
     ]
    },
    {
     "name": "stdout",
     "output_type": "stream",
     "text": [
      "Downloaded 400 tweets\n"
     ]
    }
   ],
   "source": [
    "import tweepy\n",
    "consumer_key = \"JlWj4jM87fZwG29kJVh2sFWbO\"\n",
    "consumer_secret = \"tdLp4k7maEvGzsYbGrF41JP8Fvjggn8GmByAZfFeAup2wBMQVM\"\n",
    "access_token = \"1102467059496206336-S5T0bC4yRn3tvSAOwSB9bzISJj73Px\"\n",
    "access_token_secret = \"0hzO9aTsjOJl5vi3iGCGM60TIPWmu3vuMQSlRnRyaJQvT\"\n",
    "\n",
    "# Creating the authentication object\n",
    "auth = tweepy.OAuthHandler(consumer_key, consumer_secret)\n",
    "# Setting your access token and secret\n",
    "auth.set_access_token(access_token, access_token_secret)\n",
    "# Creating the API object while passing in auth information\n",
    "api = tweepy.API(auth,wait_on_rate_limit=True,wait_on_rate_limit_notify=True) \n",
    "text = \"\"\n",
    "tweetCount = 0\n",
    "\n",
    "new_search = \"Utah Jazz OR #utahjazz OR @utahjazz -filter:retweets\"\n",
    "\n",
    "with open('northwest_twitterData.txt', 'a+') as f:\n",
    "\n",
    "    #Tell the Cursor method that we want to use the Search API (api.search)\n",
    "    #Also tell Cursor our query, and the maximum number of tweets to return\n",
    "    for tweet in tweepy.Cursor(api.search,q=new_search,lang=\"en\",since='2019-01-01').items(2000) :         \n",
    "\n",
    "        #Verify the tweet has place info before writing (It should, if it got past our place filter)\n",
    "        if tweet.text is not None:\n",
    "             if tweet.text not in tweetChecklist:\n",
    "                # Store it, so that on further times with the same text, \n",
    "                # it didn't reach this code\n",
    "                tweet.text = tweet.text.replace('\\n', ' ')\n",
    "                tweetChecklist.append(tweet.text);\n",
    "            #Write the JSON format to the text file, and add one to the number of tweets we've collected\n",
    "                f.write(tweet.text)\n",
    "                f.write(\"\\n\")\n",
    "                tweetCount += 1\n",
    "\n",
    "    #Display how many tweets we have collected\n",
    "    print(\"Downloaded {0} tweets\".format(tweetCount))"
   ]
  },
  {
   "cell_type": "code",
   "execution_count": 42,
   "metadata": {},
   "outputs": [
    {
     "name": "stdout",
     "output_type": "stream",
     "text": [
      "Downloaded 703 tweets\n"
     ]
    }
   ],
   "source": [
    "import tweepy\n",
    "consumer_key = \"JlWj4jM87fZwG29kJVh2sFWbO\"\n",
    "consumer_secret = \"tdLp4k7maEvGzsYbGrF41JP8Fvjggn8GmByAZfFeAup2wBMQVM\"\n",
    "access_token = \"1102467059496206336-S5T0bC4yRn3tvSAOwSB9bzISJj73Px\"\n",
    "access_token_secret = \"0hzO9aTsjOJl5vi3iGCGM60TIPWmu3vuMQSlRnRyaJQvT\"\n",
    "\n",
    "# Creating the authentication object\n",
    "auth = tweepy.OAuthHandler(consumer_key, consumer_secret)\n",
    "# Setting your access token and secret\n",
    "auth.set_access_token(access_token, access_token_secret)\n",
    "# Creating the API object while passing in auth information\n",
    "api = tweepy.API(auth,wait_on_rate_limit=True,wait_on_rate_limit_notify=True) \n",
    "text = \"\"\n",
    "tweetCount = 0\n",
    "\n",
    "new_search = \"Atlanta Hawks OR #atlantahawks OR @ATLHawks -filter:retweets\"\n",
    "\n",
    "with open('southeast_twitterData.txt', 'w') as f:\n",
    "\n",
    "    #Tell the Cursor method that we want to use the Search API (api.search)\n",
    "    #Also tell Cursor our query, and the maximum number of tweets to return\n",
    "    for tweet in tweepy.Cursor(api.search,q=new_search,lang=\"en\",since='2019-01-01').items(2000) :         \n",
    "\n",
    "        #Verify the tweet has place info before writing (It should, if it got past our place filter)\n",
    "        if tweet.text is not None:\n",
    "             if tweet.text not in tweetChecklist:\n",
    "                # Store it, so that on further times with the same text, \n",
    "                # it didn't reach this code\n",
    "                tweet.text = tweet.text.replace('\\n', ' ')\n",
    "                tweetChecklist.append(tweet.text);\n",
    "            #Write the JSON format to the text file, and add one to the number of tweets we've collected\n",
    "                f.write(tweet.text)\n",
    "                f.write(\"\\n\")\n",
    "                tweetCount += 1\n",
    "\n",
    "    #Display how many tweets we have collected\n",
    "    print(\"Downloaded {0} tweets\".format(tweetCount))"
   ]
  },
  {
   "cell_type": "code",
   "execution_count": 43,
   "metadata": {},
   "outputs": [
    {
     "name": "stdout",
     "output_type": "stream",
     "text": [
      "Downloaded 598 tweets\n"
     ]
    }
   ],
   "source": [
    "import tweepy\n",
    "consumer_key = \"JlWj4jM87fZwG29kJVh2sFWbO\"\n",
    "consumer_secret = \"tdLp4k7maEvGzsYbGrF41JP8Fvjggn8GmByAZfFeAup2wBMQVM\"\n",
    "access_token = \"1102467059496206336-S5T0bC4yRn3tvSAOwSB9bzISJj73Px\"\n",
    "access_token_secret = \"0hzO9aTsjOJl5vi3iGCGM60TIPWmu3vuMQSlRnRyaJQvT\"\n",
    "\n",
    "# Creating the authentication object\n",
    "auth = tweepy.OAuthHandler(consumer_key, consumer_secret)\n",
    "# Setting your access token and secret\n",
    "auth.set_access_token(access_token, access_token_secret)\n",
    "# Creating the API object while passing in auth information\n",
    "api = tweepy.API(auth,wait_on_rate_limit=True,wait_on_rate_limit_notify=True) \n",
    "text = \"\"\n",
    "tweetCount = 0\n",
    "\n",
    "new_search = \"Charlotte Hornets OR @hornets OR @HornetsPR -filter:retweets\"\n",
    "\n",
    "with open('southeast_twitterData.txt', 'a+') as f:\n",
    "\n",
    "    #Tell the Cursor method that we want to use the Search API (api.search)\n",
    "    #Also tell Cursor our query, and the maximum number of tweets to return\n",
    "    for tweet in tweepy.Cursor(api.search,q=new_search,lang=\"en\",since='2019-01-01').items(2000) :         \n",
    "\n",
    "        #Verify the tweet has place info before writing (It should, if it got past our place filter)\n",
    "        if tweet.text is not None:\n",
    "             if tweet.text not in tweetChecklist:\n",
    "                # Store it, so that on further times with the same text, \n",
    "                # it didn't reach this code\n",
    "                tweet.text = tweet.text.replace('\\n', ' ')\n",
    "                tweetChecklist.append(tweet.text);\n",
    "            #Write the JSON format to the text file, and add one to the number of tweets we've collected\n",
    "                f.write(tweet.text)\n",
    "                f.write(\"\\n\")\n",
    "                tweetCount += 1\n",
    "\n",
    "    #Display how many tweets we have collected\n",
    "    print(\"Downloaded {0} tweets\".format(tweetCount))"
   ]
  },
  {
   "cell_type": "code",
   "execution_count": 44,
   "metadata": {},
   "outputs": [
    {
     "name": "stderr",
     "output_type": "stream",
     "text": [
      "Rate limit reached. Sleeping for: 833\n"
     ]
    },
    {
     "name": "stdout",
     "output_type": "stream",
     "text": [
      "Downloaded 1979 tweets\n"
     ]
    }
   ],
   "source": [
    "import tweepy\n",
    "consumer_key = \"JlWj4jM87fZwG29kJVh2sFWbO\"\n",
    "consumer_secret = \"tdLp4k7maEvGzsYbGrF41JP8Fvjggn8GmByAZfFeAup2wBMQVM\"\n",
    "access_token = \"1102467059496206336-S5T0bC4yRn3tvSAOwSB9bzISJj73Px\"\n",
    "access_token_secret = \"0hzO9aTsjOJl5vi3iGCGM60TIPWmu3vuMQSlRnRyaJQvT\"\n",
    "\n",
    "# Creating the authentication object\n",
    "auth = tweepy.OAuthHandler(consumer_key, consumer_secret)\n",
    "# Setting your access token and secret\n",
    "auth.set_access_token(access_token, access_token_secret)\n",
    "# Creating the API object while passing in auth information\n",
    "api = tweepy.API(auth,wait_on_rate_limit=True,wait_on_rate_limit_notify=True) \n",
    "text = \"\"\n",
    "tweetCount = 0\n",
    "\n",
    "new_search = \"Miami Heat OR #heat OR @MiamiHEAT -filter:retweets\"\n",
    "\n",
    "with open('southeast_twitterData.txt', 'a+') as f:\n",
    "\n",
    "    #Tell the Cursor method that we want to use the Search API (api.search)\n",
    "    #Also tell Cursor our query, and the maximum number of tweets to return\n",
    "    for tweet in tweepy.Cursor(api.search,q=new_search,lang=\"en\",since='2019-01-01').items(2000) :         \n",
    "\n",
    "        #Verify the tweet has place info before writing (It should, if it got past our place filter)\n",
    "        if tweet.text is not None:\n",
    "             if tweet.text not in tweetChecklist:\n",
    "                # Store it, so that on further times with the same text, \n",
    "                # it didn't reach this code\n",
    "                tweet.text = tweet.text.replace('\\n', ' ')\n",
    "                tweetChecklist.append(tweet.text);\n",
    "            #Write the JSON format to the text file, and add one to the number of tweets we've collected\n",
    "                f.write(tweet.text)\n",
    "                f.write(\"\\n\")\n",
    "                tweetCount += 1\n",
    "\n",
    "    #Display how many tweets we have collected\n",
    "    print(\"Downloaded {0} tweets\".format(tweetCount))"
   ]
  },
  {
   "cell_type": "code",
   "execution_count": 45,
   "metadata": {},
   "outputs": [
    {
     "name": "stderr",
     "output_type": "stream",
     "text": [
      "Rate limit reached. Sleeping for: 849\n"
     ]
    },
    {
     "name": "stdout",
     "output_type": "stream",
     "text": [
      "Downloaded 1976 tweets\n"
     ]
    }
   ],
   "source": [
    "import tweepy\n",
    "consumer_key = \"JlWj4jM87fZwG29kJVh2sFWbO\"\n",
    "consumer_secret = \"tdLp4k7maEvGzsYbGrF41JP8Fvjggn8GmByAZfFeAup2wBMQVM\"\n",
    "access_token = \"1102467059496206336-S5T0bC4yRn3tvSAOwSB9bzISJj73Px\"\n",
    "access_token_secret = \"0hzO9aTsjOJl5vi3iGCGM60TIPWmu3vuMQSlRnRyaJQvT\"\n",
    "\n",
    "# Creating the authentication object\n",
    "auth = tweepy.OAuthHandler(consumer_key, consumer_secret)\n",
    "# Setting your access token and secret\n",
    "auth.set_access_token(access_token, access_token_secret)\n",
    "# Creating the API object while passing in auth information\n",
    "api = tweepy.API(auth,wait_on_rate_limit=True,wait_on_rate_limit_notify=True) \n",
    "text = \"\"\n",
    "tweetCount = 0\n",
    "\n",
    "new_search = \"Orlando Magic OR @OrlandoMagic -filter:retweets\"\n",
    "\n",
    "with open('southeast_twitterData.txt', 'a+') as f:\n",
    "\n",
    "    #Tell the Cursor method that we want to use the Search API (api.search)\n",
    "    #Also tell Cursor our query, and the maximum number of tweets to return\n",
    "    for tweet in tweepy.Cursor(api.search,q=new_search,lang=\"en\",since='2019-01-01').items(2000) :         \n",
    "\n",
    "        #Verify the tweet has place info before writing (It should, if it got past our place filter)\n",
    "        if tweet.text is not None:\n",
    "             if tweet.text not in tweetChecklist:\n",
    "                # Store it, so that on further times with the same text, \n",
    "                # it didn't reach this code\n",
    "                tweet.text = tweet.text.replace('\\n', ' ')\n",
    "                tweetChecklist.append(tweet.text);\n",
    "            #Write the JSON format to the text file, and add one to the number of tweets we've collected\n",
    "                f.write(tweet.text)\n",
    "                f.write(\"\\n\")\n",
    "                tweetCount += 1\n",
    "\n",
    "    #Display how many tweets we have collected\n",
    "    print(\"Downloaded {0} tweets\".format(tweetCount))"
   ]
  },
  {
   "cell_type": "code",
   "execution_count": 46,
   "metadata": {},
   "outputs": [
    {
     "name": "stdout",
     "output_type": "stream",
     "text": [
      "Downloaded 669 tweets\n"
     ]
    }
   ],
   "source": [
    "import tweepy\n",
    "consumer_key = \"JlWj4jM87fZwG29kJVh2sFWbO\"\n",
    "consumer_secret = \"tdLp4k7maEvGzsYbGrF41JP8Fvjggn8GmByAZfFeAup2wBMQVM\"\n",
    "access_token = \"1102467059496206336-S5T0bC4yRn3tvSAOwSB9bzISJj73Px\"\n",
    "access_token_secret = \"0hzO9aTsjOJl5vi3iGCGM60TIPWmu3vuMQSlRnRyaJQvT\"\n",
    "\n",
    "# Creating the authentication object\n",
    "auth = tweepy.OAuthHandler(consumer_key, consumer_secret)\n",
    "# Setting your access token and secret\n",
    "auth.set_access_token(access_token, access_token_secret)\n",
    "# Creating the API object while passing in auth information\n",
    "api = tweepy.API(auth,wait_on_rate_limit=True,wait_on_rate_limit_notify=True) \n",
    "text = \"\"\n",
    "tweetCount = 0\n",
    "\n",
    "new_search = \"Washington Wizards OR #wizards OR @WashWizards -filter:retweets\"\n",
    "\n",
    "with open('southeast_twitterData.txt', 'a+') as f:\n",
    "\n",
    "    #Tell the Cursor method that we want to use the Search API (api.search)\n",
    "    #Also tell Cursor our query, and the maximum number of tweets to return\n",
    "    for tweet in tweepy.Cursor(api.search,q=new_search,lang=\"en\",since='2019-01-01').items(2000) :         \n",
    "\n",
    "        #Verify the tweet has place info before writing (It should, if it got past our place filter)\n",
    "        if tweet.text is not None:\n",
    "             if tweet.text not in tweetChecklist:\n",
    "                # Store it, so that on further times with the same text, \n",
    "                # it didn't reach this code\n",
    "                tweet.text = tweet.text.replace('\\n', ' ')\n",
    "                tweetChecklist.append(tweet.text);\n",
    "            #Write the JSON format to the text file, and add one to the number of tweets we've collected\n",
    "                f.write(tweet.text)\n",
    "                f.write(\"\\n\")\n",
    "                tweetCount += 1\n",
    "\n",
    "    #Display how many tweets we have collected\n",
    "    print(\"Downloaded {0} tweets\".format(tweetCount))"
   ]
  },
  {
   "cell_type": "code",
   "execution_count": 47,
   "metadata": {},
   "outputs": [
    {
     "name": "stderr",
     "output_type": "stream",
     "text": [
      "Rate limit reached. Sleeping for: 721\n"
     ]
    },
    {
     "name": "stdout",
     "output_type": "stream",
     "text": [
      "Downloaded 1958 tweets\n"
     ]
    }
   ],
   "source": [
    "import tweepy\n",
    "consumer_key = \"JlWj4jM87fZwG29kJVh2sFWbO\"\n",
    "consumer_secret = \"tdLp4k7maEvGzsYbGrF41JP8Fvjggn8GmByAZfFeAup2wBMQVM\"\n",
    "access_token = \"1102467059496206336-S5T0bC4yRn3tvSAOwSB9bzISJj73Px\"\n",
    "access_token_secret = \"0hzO9aTsjOJl5vi3iGCGM60TIPWmu3vuMQSlRnRyaJQvT\"\n",
    "\n",
    "# Creating the authentication object\n",
    "auth = tweepy.OAuthHandler(consumer_key, consumer_secret)\n",
    "# Setting your access token and secret\n",
    "auth.set_access_token(access_token, access_token_secret)\n",
    "# Creating the API object while passing in auth information\n",
    "api = tweepy.API(auth,wait_on_rate_limit=True,wait_on_rate_limit_notify=True) \n",
    "text = \"\"\n",
    "tweetCount = 0\n",
    "\n",
    "new_search = \"Chicago Bulls OR #bulls OR @chicagobulls -filter:retweets\"\n",
    "\n",
    "with open('central_twitterData.txt', 'w') as f:\n",
    "\n",
    "    #Tell the Cursor method that we want to use the Search API (api.search)\n",
    "    #Also tell Cursor our query, and the maximum number of tweets to return\n",
    "    for tweet in tweepy.Cursor(api.search,q=new_search,lang=\"en\",since='2019-01-01').items(2000) :         \n",
    "\n",
    "        #Verify the tweet has place info before writing (It should, if it got past our place filter)\n",
    "        if tweet.text is not None:\n",
    "             if tweet.text not in tweetChecklist:\n",
    "                # Store it, so that on further times with the same text, \n",
    "                # it didn't reach this code\n",
    "                tweet.text = tweet.text.replace('\\n', ' ')\n",
    "                tweetChecklist.append(tweet.text);\n",
    "            #Write the JSON format to the text file, and add one to the number of tweets we've collected\n",
    "                f.write(tweet.text)\n",
    "                f.write(\"\\n\")\n",
    "                tweetCount += 1\n",
    "\n",
    "    #Display how many tweets we have collected\n",
    "    print(\"Downloaded {0} tweets\".format(tweetCount))"
   ]
  },
  {
   "cell_type": "code",
   "execution_count": 48,
   "metadata": {},
   "outputs": [
    {
     "name": "stdout",
     "output_type": "stream",
     "text": [
      "Downloaded 911 tweets\n"
     ]
    }
   ],
   "source": [
    "import tweepy\n",
    "consumer_key = \"JlWj4jM87fZwG29kJVh2sFWbO\"\n",
    "consumer_secret = \"tdLp4k7maEvGzsYbGrF41JP8Fvjggn8GmByAZfFeAup2wBMQVM\"\n",
    "access_token = \"1102467059496206336-S5T0bC4yRn3tvSAOwSB9bzISJj73Px\"\n",
    "access_token_secret = \"0hzO9aTsjOJl5vi3iGCGM60TIPWmu3vuMQSlRnRyaJQvT\"\n",
    "\n",
    "# Creating the authentication object\n",
    "auth = tweepy.OAuthHandler(consumer_key, consumer_secret)\n",
    "# Setting your access token and secret\n",
    "auth.set_access_token(access_token, access_token_secret)\n",
    "# Creating the API object while passing in auth information\n",
    "api = tweepy.API(auth,wait_on_rate_limit=True,wait_on_rate_limit_notify=True) \n",
    "text = \"\"\n",
    "tweetCount = 0\n",
    "\n",
    "new_search = \"Cleveland Cavaliers OR #cavaliers OR @cavs -filter:retweets\"\n",
    "\n",
    "with open('central_twitterData.txt', 'a+') as f:\n",
    "\n",
    "    #Tell the Cursor method that we want to use the Search API (api.search)\n",
    "    #Also tell Cursor our query, and the maximum number of tweets to return\n",
    "    for tweet in tweepy.Cursor(api.search,q=new_search,lang=\"en\",since='2019-01-01').items(1000) :         \n",
    "\n",
    "        #Verify the tweet has place info before writing (It should, if it got past our place filter)\n",
    "        if tweet.text is not None:\n",
    "             if tweet.text not in tweetChecklist:\n",
    "                # Store it, so that on further times with the same text, \n",
    "                # it didn't reach this code\n",
    "                tweet.text = tweet.text.replace('\\n', ' ')\n",
    "                tweetChecklist.append(tweet.text);\n",
    "            #Write the JSON format to the text file, and add one to the number of tweets we've collected\n",
    "                f.write(tweet.text)\n",
    "                f.write(\"\\n\")\n",
    "                tweetCount += 1\n",
    "\n",
    "    #Display how many tweets we have collected\n",
    "    print(\"Downloaded {0} tweets\".format(tweetCount))"
   ]
  },
  {
   "cell_type": "code",
   "execution_count": 49,
   "metadata": {},
   "outputs": [
    {
     "name": "stdout",
     "output_type": "stream",
     "text": [
      "Downloaded 983 tweets\n"
     ]
    }
   ],
   "source": [
    "import tweepy\n",
    "consumer_key = \"JlWj4jM87fZwG29kJVh2sFWbO\"\n",
    "consumer_secret = \"tdLp4k7maEvGzsYbGrF41JP8Fvjggn8GmByAZfFeAup2wBMQVM\"\n",
    "access_token = \"1102467059496206336-S5T0bC4yRn3tvSAOwSB9bzISJj73Px\"\n",
    "access_token_secret = \"0hzO9aTsjOJl5vi3iGCGM60TIPWmu3vuMQSlRnRyaJQvT\"\n",
    "\n",
    "# Creating the authentication object\n",
    "auth = tweepy.OAuthHandler(consumer_key, consumer_secret)\n",
    "# Setting your access token and secret\n",
    "auth.set_access_token(access_token, access_token_secret)\n",
    "# Creating the API object while passing in auth information\n",
    "api = tweepy.API(auth,wait_on_rate_limit=True,wait_on_rate_limit_notify=True) \n",
    "text = \"\"\n",
    "tweetCount = 0\n",
    "\n",
    "new_search = \"Detroit Pistons OR #pistons OR @DetroitPistons -filter:retweets\"\n",
    "\n",
    "with open('central_twitterData.txt', 'a+') as f:\n",
    "\n",
    "    #Tell the Cursor method that we want to use the Search API (api.search)\n",
    "    #Also tell Cursor our query, and the maximum number of tweets to return\n",
    "    for tweet in tweepy.Cursor(api.search,q=new_search,lang=\"en\",since='2019-01-01').items(1000) :         \n",
    "\n",
    "        #Verify the tweet has place info before writing (It should, if it got past our place filter)\n",
    "        if tweet.text is not None:\n",
    "             if tweet.text not in tweetChecklist:\n",
    "                # Store it, so that on further times with the same text, \n",
    "                # it didn't reach this code\n",
    "                tweet.text = tweet.text.replace('\\n', ' ')\n",
    "                tweetChecklist.append(tweet.text);\n",
    "            #Write the JSON format to the text file, and add one to the number of tweets we've collected\n",
    "                f.write(tweet.text)\n",
    "                f.write(\"\\n\")\n",
    "                tweetCount += 1\n",
    "\n",
    "    #Display how many tweets we have collected\n",
    "    print(\"Downloaded {0} tweets\".format(tweetCount))"
   ]
  },
  {
   "cell_type": "code",
   "execution_count": 50,
   "metadata": {},
   "outputs": [
    {
     "name": "stderr",
     "output_type": "stream",
     "text": [
      "Rate limit reached. Sleeping for: 817\n"
     ]
    },
    {
     "name": "stdout",
     "output_type": "stream",
     "text": [
      "Downloaded 971 tweets\n"
     ]
    }
   ],
   "source": [
    "import tweepy\n",
    "consumer_key = \"JlWj4jM87fZwG29kJVh2sFWbO\"\n",
    "consumer_secret = \"tdLp4k7maEvGzsYbGrF41JP8Fvjggn8GmByAZfFeAup2wBMQVM\"\n",
    "access_token = \"1102467059496206336-S5T0bC4yRn3tvSAOwSB9bzISJj73Px\"\n",
    "access_token_secret = \"0hzO9aTsjOJl5vi3iGCGM60TIPWmu3vuMQSlRnRyaJQvT\"\n",
    "\n",
    "# Creating the authentication object\n",
    "auth = tweepy.OAuthHandler(consumer_key, consumer_secret)\n",
    "# Setting your access token and secret\n",
    "auth.set_access_token(access_token, access_token_secret)\n",
    "# Creating the API object while passing in auth information\n",
    "api = tweepy.API(auth,wait_on_rate_limit=True,wait_on_rate_limit_notify=True) \n",
    "text = \"\"\n",
    "tweetCount = 0\n",
    "\n",
    "new_search = \"Indiana Pacers OR #pacers OR @pacers -filter:retweets\"\n",
    "\n",
    "with open('central_twitterData.txt', 'a+') as f:\n",
    "\n",
    "    #Tell the Cursor method that we want to use the Search API (api.search)\n",
    "    #Also tell Cursor our query, and the maximum number of tweets to return\n",
    "    for tweet in tweepy.Cursor(api.search,q=new_search,lang=\"en\",since='2019-01-01').items(1000) :         \n",
    "\n",
    "        #Verify the tweet has place info before writing (It should, if it got past our place filter)\n",
    "        if tweet.text is not None:\n",
    "             if tweet.text not in tweetChecklist:\n",
    "                # Store it, so that on further times with the same text, \n",
    "                # it didn't reach this code\n",
    "                tweet.text = tweet.text.replace('\\n', ' ')\n",
    "                tweetChecklist.append(tweet.text);\n",
    "            #Write the JSON format to the text file, and add one to the number of tweets we've collected\n",
    "                f.write(tweet.text)\n",
    "                f.write(\"\\n\")\n",
    "                tweetCount += 1\n",
    "\n",
    "    #Display how many tweets we have collected\n",
    "    print(\"Downloaded {0} tweets\".format(tweetCount))"
   ]
  },
  {
   "cell_type": "code",
   "execution_count": 51,
   "metadata": {},
   "outputs": [
    {
     "name": "stdout",
     "output_type": "stream",
     "text": [
      "Downloaded 822 tweets\n"
     ]
    }
   ],
   "source": [
    "import tweepy\n",
    "consumer_key = \"JlWj4jM87fZwG29kJVh2sFWbO\"\n",
    "consumer_secret = \"tdLp4k7maEvGzsYbGrF41JP8Fvjggn8GmByAZfFeAup2wBMQVM\"\n",
    "access_token = \"1102467059496206336-S5T0bC4yRn3tvSAOwSB9bzISJj73Px\"\n",
    "access_token_secret = \"0hzO9aTsjOJl5vi3iGCGM60TIPWmu3vuMQSlRnRyaJQvT\"\n",
    "\n",
    "# Creating the authentication object\n",
    "auth = tweepy.OAuthHandler(consumer_key, consumer_secret)\n",
    "# Setting your access token and secret\n",
    "auth.set_access_token(access_token, access_token_secret)\n",
    "# Creating the API object while passing in auth information\n",
    "api = tweepy.API(auth,wait_on_rate_limit=True,wait_on_rate_limit_notify=True) \n",
    "text = \"\"\n",
    "tweetCount = 0\n",
    "\n",
    "new_search = \"Milwaukee Bucks OR #bucks OR @bucks -filter:retweets\"\n",
    "\n",
    "with open('central_twitterData.txt', 'a+') as f:\n",
    "\n",
    "    #Tell the Cursor method that we want to use the Search API (api.search)\n",
    "    #Also tell Cursor our query, and the maximum number of tweets to return\n",
    "    for tweet in tweepy.Cursor(api.search,q=new_search,lang=\"en\",since='2019-01-01').items(1000) :         \n",
    "\n",
    "        #Verify the tweet has place info before writing (It should, if it got past our place filter)\n",
    "        if tweet.text is not None:\n",
    "             if tweet.text not in tweetChecklist:\n",
    "                # Store it, so that on further times with the same text, \n",
    "                # it didn't reach this code\n",
    "                tweet.text = tweet.text.replace('\\n', ' ')\n",
    "                tweetChecklist.append(tweet.text);\n",
    "            #Write the JSON format to the text file, and add one to the number of tweets we've collected\n",
    "                f.write(tweet.text)\n",
    "                f.write(\"\\n\")\n",
    "                tweetCount += 1\n",
    "\n",
    "    #Display how many tweets we have collected\n",
    "    print(\"Downloaded {0} tweets\".format(tweetCount))"
   ]
  },
  {
   "cell_type": "code",
   "execution_count": 57,
   "metadata": {},
   "outputs": [
    {
     "name": "stdout",
     "output_type": "stream",
     "text": [
      "Downloaded 1000 tweets\n"
     ]
    }
   ],
   "source": [
    "import tweepy\n",
    "consumer_key = \"JlWj4jM87fZwG29kJVh2sFWbO\"\n",
    "consumer_secret = \"tdLp4k7maEvGzsYbGrF41JP8Fvjggn8GmByAZfFeAup2wBMQVM\"\n",
    "access_token = \"1102467059496206336-S5T0bC4yRn3tvSAOwSB9bzISJj73Px\"\n",
    "access_token_secret = \"0hzO9aTsjOJl5vi3iGCGM60TIPWmu3vuMQSlRnRyaJQvT\"\n",
    "\n",
    "# Creating the authentication object\n",
    "auth = tweepy.OAuthHandler(consumer_key, consumer_secret)\n",
    "# Setting your access token and secret\n",
    "auth.set_access_token(access_token, access_token_secret)\n",
    "# Creating the API object while passing in auth information\n",
    "api = tweepy.API(auth,wait_on_rate_limit=True,wait_on_rate_limit_notify=True) \n",
    "text = \"\"\n",
    "tweetCount = 0\n",
    "\n",
    "new_search = \"NBA OR #nba -filter:retweets\"\n",
    "\n",
    "with open('nba_twitterData.txt', 'a+') as f:\n",
    "\n",
    "    #Tell the Cursor method that we want to use the Search API (api.search)\n",
    "    #Also tell Cursor our query, and the maximum number of tweets to return\n",
    "    for tweet in tweepy.Cursor(api.search,q=new_search,lang=\"en\",since='2019-01-01').items(1000) :         \n",
    "\n",
    "        #Verify the tweet has place info before writing (It should, if it got past our place filter)\n",
    "        if tweet.text is not None:\n",
    "             if tweet.text not in tweetChecklist:\n",
    "                # Store it, so that on further times with the same text, \n",
    "                # it didn't reach this code\n",
    "                tweet.text = tweet.text.replace('\\n', ' ')\n",
    "                tweetChecklist.append(tweet.text);\n",
    "            #Write the JSON format to the text file, and add one to the number of tweets we've collected\n",
    "                f.write(tweet.text)\n",
    "                f.write(\"\\n\")\n",
    "                tweetCount += 1\n",
    "\n",
    "    #Display how many tweets we have collected\n",
    "    print(\"Downloaded {0} tweets\".format(tweetCount))"
   ]
  },
  {
   "cell_type": "code",
   "execution_count": null,
   "metadata": {},
   "outputs": [],
   "source": []
  }
 ],
 "metadata": {
  "kernelspec": {
   "display_name": "Python 3",
   "language": "python",
   "name": "python3"
  },
  "language_info": {
   "codemirror_mode": {
    "name": "ipython",
    "version": 3
   },
   "file_extension": ".py",
   "mimetype": "text/x-python",
   "name": "python",
   "nbconvert_exporter": "python",
   "pygments_lexer": "ipython3",
   "version": "3.6.5"
  }
 },
 "nbformat": 4,
 "nbformat_minor": 2
}
